{
 "cells": [
  {
   "cell_type": "code",
   "execution_count": 1,
   "id": "0aedf9f4",
   "metadata": {},
   "outputs": [
    {
     "name": "stdout",
     "output_type": "stream",
     "text": [
      "Collecting openai\n",
      "  Downloading openai-1.108.1-py3-none-any.whl.metadata (29 kB)\n",
      "Collecting anyio<5,>=3.5.0 (from openai)\n",
      "  Downloading anyio-4.10.0-py3-none-any.whl.metadata (4.0 kB)\n",
      "Requirement already satisfied: distro<2,>=1.7.0 in c:\\users\\hany\\miniconda3\\lib\\site-packages (from openai) (1.9.0)\n",
      "Collecting httpx<1,>=0.23.0 (from openai)\n",
      "  Downloading httpx-0.28.1-py3-none-any.whl.metadata (7.1 kB)\n",
      "Collecting jiter<1,>=0.4.0 (from openai)\n",
      "  Downloading jiter-0.11.0-cp313-cp313-win_amd64.whl.metadata (5.3 kB)\n",
      "Requirement already satisfied: pydantic<3,>=1.9.0 in c:\\users\\hany\\miniconda3\\lib\\site-packages (from openai) (2.11.7)\n",
      "Collecting sniffio (from openai)\n",
      "  Downloading sniffio-1.3.1-py3-none-any.whl.metadata (3.9 kB)\n",
      "Requirement already satisfied: tqdm>4 in c:\\users\\hany\\miniconda3\\lib\\site-packages (from openai) (4.67.1)\n",
      "Requirement already satisfied: typing-extensions<5,>=4.11 in c:\\users\\hany\\miniconda3\\lib\\site-packages (from openai) (4.12.2)\n",
      "Requirement already satisfied: idna>=2.8 in c:\\users\\hany\\miniconda3\\lib\\site-packages (from anyio<5,>=3.5.0->openai) (3.7)\n",
      "Requirement already satisfied: certifi in c:\\users\\hany\\miniconda3\\lib\\site-packages (from httpx<1,>=0.23.0->openai) (2025.8.3)\n",
      "Collecting httpcore==1.* (from httpx<1,>=0.23.0->openai)\n",
      "  Downloading httpcore-1.0.9-py3-none-any.whl.metadata (21 kB)\n",
      "Collecting h11>=0.16 (from httpcore==1.*->httpx<1,>=0.23.0->openai)\n",
      "  Downloading h11-0.16.0-py3-none-any.whl.metadata (8.3 kB)\n",
      "Requirement already satisfied: annotated-types>=0.6.0 in c:\\users\\hany\\miniconda3\\lib\\site-packages (from pydantic<3,>=1.9.0->openai) (0.6.0)\n",
      "Requirement already satisfied: pydantic-core==2.33.2 in c:\\users\\hany\\miniconda3\\lib\\site-packages (from pydantic<3,>=1.9.0->openai) (2.33.2)\n",
      "Requirement already satisfied: typing-inspection>=0.4.0 in c:\\users\\hany\\miniconda3\\lib\\site-packages (from pydantic<3,>=1.9.0->openai) (0.4.0)\n",
      "Requirement already satisfied: colorama in c:\\users\\hany\\miniconda3\\lib\\site-packages (from tqdm>4->openai) (0.4.6)\n",
      "Downloading openai-1.108.1-py3-none-any.whl (948 kB)\n",
      "   ---------------------------------------- 0.0/948.4 kB ? eta -:--:--\n",
      "   ---------------------- ----------------- 524.3/948.4 kB 3.7 MB/s eta 0:00:01\n",
      "   ---------------------------------------- 948.4/948.4 kB 3.4 MB/s eta 0:00:00\n",
      "Downloading anyio-4.10.0-py3-none-any.whl (107 kB)\n",
      "Downloading httpx-0.28.1-py3-none-any.whl (73 kB)\n",
      "Downloading httpcore-1.0.9-py3-none-any.whl (78 kB)\n",
      "Downloading jiter-0.11.0-cp313-cp313-win_amd64.whl (202 kB)\n",
      "Downloading h11-0.16.0-py3-none-any.whl (37 kB)\n",
      "Downloading sniffio-1.3.1-py3-none-any.whl (10 kB)\n",
      "Installing collected packages: sniffio, jiter, h11, httpcore, anyio, httpx, openai\n",
      "\n",
      "   ----------------- ---------------------- 3/7 [httpcore]\n",
      "   ---------------------- ----------------- 4/7 [anyio]\n",
      "   ---------------------------- ----------- 5/7 [httpx]\n",
      "   ---------------------------------- ----- 6/7 [openai]\n",
      "   ---------------------------------- ----- 6/7 [openai]\n",
      "   ---------------------------------- ----- 6/7 [openai]\n",
      "   ---------------------------------- ----- 6/7 [openai]\n",
      "   ---------------------------------- ----- 6/7 [openai]\n",
      "   ---------------------------------- ----- 6/7 [openai]\n",
      "   ---------------------------------- ----- 6/7 [openai]\n",
      "   ---------------------------------- ----- 6/7 [openai]\n",
      "   ---------------------------------- ----- 6/7 [openai]\n",
      "   ---------------------------------- ----- 6/7 [openai]\n",
      "   ---------------------------------- ----- 6/7 [openai]\n",
      "   ---------------------------------- ----- 6/7 [openai]\n",
      "   ---------------------------------- ----- 6/7 [openai]\n",
      "   ---------------------------------- ----- 6/7 [openai]\n",
      "   ---------------------------------- ----- 6/7 [openai]\n",
      "   ---------------------------------- ----- 6/7 [openai]\n",
      "   ---------------------------------- ----- 6/7 [openai]\n",
      "   ---------------------------------- ----- 6/7 [openai]\n",
      "   ---------------------------------- ----- 6/7 [openai]\n",
      "   ---------------------------------------- 7/7 [openai]\n",
      "\n",
      "Successfully installed anyio-4.10.0 h11-0.16.0 httpcore-1.0.9 httpx-0.28.1 jiter-0.11.0 openai-1.108.1 sniffio-1.3.1\n"
     ]
    }
   ],
   "source": [
    "!pip install openai"
   ]
  },
  {
   "cell_type": "code",
   "execution_count": 2,
   "id": "964a6965",
   "metadata": {},
   "outputs": [],
   "source": [
    "from openai import OpenAI\n",
    "from IPython.display import Markdown, display\n",
    "import os"
   ]
  },
  {
   "cell_type": "code",
   "execution_count": null,
   "id": "b90f6692",
   "metadata": {},
   "outputs": [],
   "source": [
    "client=OpenAI(base_url=\"https://openai.vocareum.com/v1\", \n",
    "              api_key=\"voc######\")"
   ]
  },
  {
   "cell_type": "code",
   "execution_count": 4,
   "id": "5fa65671",
   "metadata": {},
   "outputs": [],
   "source": [
    "from enum import Enum"
   ]
  },
  {
   "cell_type": "code",
   "execution_count": 17,
   "id": "25edb014",
   "metadata": {},
   "outputs": [],
   "source": [
    "class OpenAIModels(str,Enum):\n",
    "    GPT_3_5_TURBO = \"gpt-3.5-turbo\"\n",
    "    GPT_4 = \"gpt-4\"\n",
    "    GPT_4_TURBO = \"gpt-4-turbo\"\n",
    "    GPT_4O = \"gpt-4o\"\n",
    "    GPT_4O_TURBO = \"gpt-4o-turbo\"\n",
    "    GPT_4O_MINI = \"gpt-4o-mini\"\n",
    "    GPT_4O_MINI_TURBO = \"gpt-4o-mini-turbo\"\n",
    "    GPT_41_NANO='gpt-4.1-nano'\n",
    "\n",
    "MODEL = OpenAIModels.GPT_41_NANO"
   ]
  },
  {
   "cell_type": "code",
   "execution_count": 11,
   "id": "54fdd044",
   "metadata": {},
   "outputs": [],
   "source": [
    "def get_completion(system_prompt,user_prompt, model=MODEL):\n",
    "    \"\"\"\n",
    "    Function to get a completion from the OpenAI API\n",
    "    ArgsL\n",
    "        system_prompt (str): The system prompt to set the behavior of the model\n",
    "        user_prompt (str): The user prompt to get a response for\n",
    "        model (str): The model to use for the completion\n",
    "    Returns:\n",
    "        response (str): The response from the model / the completion text\n",
    "    \"\"\"\n",
    "    messages = [\n",
    "        {'role': 'user', 'content': user_prompt}, # indicat the role of the msg sender, user - msg is from the user\n",
    "        # content - contains the actual txt of the msg, which is the input/question that the user wants to respond to\n",
    "        # message list -  used to structure the input that will be sent to the model\n",
    "    ]\n",
    "\n",
    "    if system_prompt is not None:\n",
    "        messages = [\n",
    "            {'role': 'system', 'content': system_prompt},\n",
    "            *messages\n",
    "        ]\n",
    "    try:\n",
    "        response = client.chat.completions.create(\n",
    "            model=model,\n",
    "            messages=messages,\n",
    "            temperature=0.7, # 0 to 1, higher values = more creative\n",
    "        )\n",
    "        return response.choices[0].message.content\n",
    "    except Exception as e:\n",
    "        return f\"an error occurred: {e}\"\n",
    "  "
   ]
  },
  {
   "cell_type": "code",
   "execution_count": 8,
   "id": "cce4ff4b",
   "metadata": {},
   "outputs": [
    {
     "name": "stdout",
     "output_type": "stream",
     "text": [
      "[1, 2, 3, 4]\n",
      "1 2 3 4\n"
     ]
    },
    {
     "data": {
      "text/plain": [
       "(None, None)"
      ]
     },
     "execution_count": 8,
     "metadata": {},
     "output_type": "execute_result"
    }
   ],
   "source": [
    "x=[1,2,3,4]\n",
    "print(x), print(*x)"
   ]
  },
  {
   "cell_type": "code",
   "execution_count": 18,
   "id": "b5c89b32",
   "metadata": {},
   "outputs": [],
   "source": [
    "def display_response(*args):\n",
    "    \"\"\"\n",
    "    Function to display the response from the model in a formatted way as markdown, horizontally\n",
    "    Args:\n",
    "        *args: The arguments to be displayed\n",
    "    \"\"\"\n",
    "    markdown_string = \"<table><tr>\"\n",
    "    # headers\n",
    "    for arg in args:\n",
    "        markdown_string+=f\"<th>System Prompt: <br />  {arg['system_prompt']}<br / ><br />\"\n",
    "        markdown_string += f\"User Prompt:<br />{arg['user_prompt']}</th>\" \n",
    "    markdown_string+=\"</tr>\"\n",
    "    # row\n",
    "    markdown_string+=\"</tr>\"\n",
    "\n",
    "    for arg in args:\n",
    "        markdown_string += f\"<td>Response:<br /> {arg['response']}</td>\"\n",
    "    markdown_string += \"</tr></table>\"\n",
    "\n",
    "    display(Markdown(markdown_string))"
   ]
  },
  {
   "cell_type": "code",
   "execution_count": null,
   "id": "a4819eff",
   "metadata": {},
   "outputs": [],
   "source": []
  },
  {
   "cell_type": "markdown",
   "id": "d6dabe37",
   "metadata": {},
   "source": [
    "# Generic Prompt"
   ]
  },
  {
   "cell_type": "code",
   "execution_count": 21,
   "id": "8dc1d778",
   "metadata": {},
   "outputs": [
    {
     "name": "stdout",
     "output_type": "stream",
     "text": [
      "Sending prompt to OpenAIModels.GPT_41_NANO model...\n",
      "Response received!\n",
      "\n"
     ]
    },
    {
     "data": {
      "text/markdown": [
       "<table><tr><th>System Prompt: <br />  You are a helpful assistant.<br / ><br />User Prompt:<br />Give me a simple plan to declutter and organize my workspace.</th></tr></tr><td>Response:<br /> Certainly! Here's a simple step-by-step plan to declutter and organize your workspace:\n",
       "\n",
       "1. Set a Goal:\n",
       "   - Decide what you want to achieve (e.g., a clean, efficient workspace).\n",
       "2. Clear the Surface:\n",
       "   - Remove everything from your desk or workspace.\n",
       "3. Sort Items:\n",
       "   - Make piles: Keep, Toss, Donate/Recycle.\n",
       "   - Be honest about what you need regularly.\n",
       "4. Clean the Area:\n",
       "   - Wipe down surfaces, dust, and vacuum if needed.\n",
       "5. Organize Supplies:\n",
       "   - Store frequently used items within easy reach.\n",
       "   - Use organizers, trays, or drawers for smaller items.\n",
       "6. Create Zones:\n",
       "   - Designate specific areas for different tasks (e.g., computer zone, writing zone).\n",
       "7. Implement Storage Solutions:\n",
       "   - Use shelves, filing cabinets, or storage bins.\n",
       "8. Maintain Regularly:\n",
       "   - Spend 5-10 minutes weekly tidying up.\n",
       "9. Personalize Thoughtfully:\n",
       "   - Add a few personal touches without cluttering the space.\n",
       "10. Stick to the Plan:\n",
       "    - Develop habits to keep your workspace organized over time.\n",
       "\n",
       "Would you like a printable checklist or specific product suggestions?</td></tr></table>"
      ],
      "text/plain": [
       "<IPython.core.display.Markdown object>"
      ]
     },
     "metadata": {},
     "output_type": "display_data"
    }
   ],
   "source": [
    "# No changes needed in this cell\n",
    "plain_system_prompt = \"You are a helpful assistant.\"  # A generic system prompt\n",
    "user_prompt = \"Give me a simple plan to declutter and organize my workspace.\"\n",
    "\n",
    "print(f\"Sending prompt to {MODEL} model...\")\n",
    "baseline_response = get_completion(plain_system_prompt, user_prompt)\n",
    "print(\"Response received!\\n\")\n",
    "\n",
    "display_response(\n",
    "    {\n",
    "        \"system_prompt\": plain_system_prompt,\n",
    "        \"user_prompt\": user_prompt,\n",
    "        \"response\": baseline_response,\n",
    "    }\n",
    ")"
   ]
  },
  {
   "cell_type": "markdown",
   "id": "9b56364a",
   "metadata": {},
   "source": [
    "# Add a Professional Role\n",
    "\n",
    "1. refined the prompt by assigning a professional persona. \n",
    "2. see if this would affect the expertise and tone of the response."
   ]
  },
  {
   "cell_type": "code",
   "execution_count": 22,
   "id": "b403dd87",
   "metadata": {},
   "outputs": [
    {
     "name": "stdout",
     "output_type": "stream",
     "text": [
      "sending prompt with professional role...\n",
      "Response received! \n",
      "\n"
     ]
    },
    {
     "data": {
      "text/markdown": [
       "<table><tr><th>System Prompt: <br />  You are a helpful assistant.<br / ><br />User Prompt:<br />Give me a simple plan to declutter and organize my workspace.</th><th>System Prompt: <br />  You are a certified professional organizer.<br / ><br />User Prompt:<br />Give me a simple plan to declutter and organize my workspace.</th></tr></tr><td>Response:<br /> Certainly! Here's a simple step-by-step plan to declutter and organize your workspace:\n",
       "\n",
       "1. Set a Goal:\n",
       "   - Decide what you want to achieve (e.g., a clean, efficient workspace).\n",
       "2. Clear the Surface:\n",
       "   - Remove everything from your desk or workspace.\n",
       "3. Sort Items:\n",
       "   - Make piles: Keep, Toss, Donate/Recycle.\n",
       "   - Be honest about what you need regularly.\n",
       "4. Clean the Area:\n",
       "   - Wipe down surfaces, dust, and vacuum if needed.\n",
       "5. Organize Supplies:\n",
       "   - Store frequently used items within easy reach.\n",
       "   - Use organizers, trays, or drawers for smaller items.\n",
       "6. Create Zones:\n",
       "   - Designate specific areas for different tasks (e.g., computer zone, writing zone).\n",
       "7. Implement Storage Solutions:\n",
       "   - Use shelves, filing cabinets, or storage bins.\n",
       "8. Maintain Regularly:\n",
       "   - Spend 5-10 minutes weekly tidying up.\n",
       "9. Personalize Thoughtfully:\n",
       "   - Add a few personal touches without cluttering the space.\n",
       "10. Stick to the Plan:\n",
       "    - Develop habits to keep your workspace organized over time.\n",
       "\n",
       "Would you like a printable checklist or specific product suggestions?</td><td>Response:<br /> Absolutely! Here's a simple, step-by-step plan to help you declutter and organize your workspace:\n",
       "\n",
       "**1. Set Your Goals**\n",
       "- Decide what you want your workspace to look and feel like.\n",
       "- Identify specific issues (e.g., too much clutter, lack of storage).\n",
       "\n",
       "**2. Gather Supplies**\n",
       "- Storage bins, trays, or organizers\n",
       "- Trash bag or recycling bin\n",
       "- Labels and marker\n",
       "- Cleaning supplies (optional, for wiping surfaces)\n",
       "\n",
       "**3. Clear Everything Out**\n",
       "- Remove everything from your desk and shelves.\n",
       "- Sort items into categories: Keep, Donate/Sell, Recycle, Trash.\n",
       "\n",
       "**4. Purge Unnecessary Items**\n",
       "- Be honest about what you really need.\n",
       "- Get rid of outdated papers, broken supplies, or duplicates.\n",
       "\n",
       "**5. Clean the Space**\n",
       "- Dust surfaces, wipe down your desk, and clean your equipment.\n",
       "\n",
       "**6. Organize What Remains**\n",
       "- Designate zones for different items (e.g., office supplies, files, electronics).\n",
       "- Use organizers, drawers, or shelves to store items neatly.\n",
       "- Keep frequently used items within easy reach.\n",
       "\n",
       "**7. Create a Filing System**\n",
       "- Use file folders or digital tools for documents.\n",
       "- Label everything clearly for quick retrieval.\n",
       "\n",
       "**8. Personalize and Maintain**\n",
       "- Add personal touches like photos or plants.\n",
       "- Schedule regular quick tidies (weekly or bi-weekly) to maintain order.\n",
       "\n",
       "**9. Develop Habits**\n",
       "- End each day by tidying your workspace.\n",
       "- Limit new clutter by being mindful of what you bring in.\n",
       "\n",
       "Would you like tailored tips based on your specific workspace (home office, studio, etc.)?</td></tr></table>"
      ],
      "text/plain": [
       "<IPython.core.display.Markdown object>"
      ]
     },
     "metadata": {},
     "output_type": "display_data"
    }
   ],
   "source": [
    "# No changes needed in this cell\n",
    "role_system_prompt = \"You are a certified professional organizer.\"  # A system prompt\n",
    "print(\"sending prompt with professional role...\")\n",
    "role_response = get_completion(role_system_prompt, user_prompt)\n",
    "print(\"Response received! \\n\")\n",
    "\n",
    "\n",
    "# show last two prompts and responses\n",
    "display_response(\n",
    "    {\n",
    "        \"system_prompt\": plain_system_prompt,\n",
    "        \"user_prompt\": user_prompt,\n",
    "        \"response\": baseline_response,\n",
    "    },\n",
    "    {\n",
    "        \"system_prompt\": role_system_prompt,\n",
    "        \"user_prompt\": user_prompt,\n",
    "        \"response\": role_response,\n",
    "    }\n",
    ")"
   ]
  },
  {
   "cell_type": "code",
   "execution_count": null,
   "id": "d72952c3",
   "metadata": {},
   "outputs": [],
   "source": []
  },
  {
   "cell_type": "markdown",
   "id": "9293764d",
   "metadata": {},
   "source": [
    "# add constraints"
   ]
  },
  {
   "cell_type": "code",
   "execution_count": 25,
   "id": "97bc65ff",
   "metadata": {},
   "outputs": [
    {
     "name": "stdout",
     "output_type": "stream",
     "text": [
      "Sending prompt with constraints...\n",
      "Response received!\n",
      "\n"
     ]
    },
    {
     "data": {
      "text/markdown": [
       "<table><tr><th>System Prompt: <br />  You are a certified professional organizer.<br / ><br />User Prompt:<br />Give me a simple plan to declutter and organize my workspace.</th><th>System Prompt: <br />   You are a certified professional organizer.. I have only 15 minutes, a $20 budget, and limited floor space;\n",
       "I have many papers to organize and i dont have boxes. my papers are most likely A4 printout (with some knowledge) and my personal hand-written notes<br / ><br />User Prompt:<br />Give me a simple plan to declutter and organize my workspace.</th></tr></tr><td>Response:<br /> Absolutely! Here's a simple, step-by-step plan to help you declutter and organize your workspace:\n",
       "\n",
       "**1. Set Your Goals**\n",
       "- Decide what you want your workspace to look and feel like.\n",
       "- Identify specific issues (e.g., too much clutter, lack of storage).\n",
       "\n",
       "**2. Gather Supplies**\n",
       "- Storage bins, trays, or organizers\n",
       "- Trash bag or recycling bin\n",
       "- Labels and marker\n",
       "- Cleaning supplies (optional, for wiping surfaces)\n",
       "\n",
       "**3. Clear Everything Out**\n",
       "- Remove everything from your desk and shelves.\n",
       "- Sort items into categories: Keep, Donate/Sell, Recycle, Trash.\n",
       "\n",
       "**4. Purge Unnecessary Items**\n",
       "- Be honest about what you really need.\n",
       "- Get rid of outdated papers, broken supplies, or duplicates.\n",
       "\n",
       "**5. Clean the Space**\n",
       "- Dust surfaces, wipe down your desk, and clean your equipment.\n",
       "\n",
       "**6. Organize What Remains**\n",
       "- Designate zones for different items (e.g., office supplies, files, electronics).\n",
       "- Use organizers, drawers, or shelves to store items neatly.\n",
       "- Keep frequently used items within easy reach.\n",
       "\n",
       "**7. Create a Filing System**\n",
       "- Use file folders or digital tools for documents.\n",
       "- Label everything clearly for quick retrieval.\n",
       "\n",
       "**8. Personalize and Maintain**\n",
       "- Add personal touches like photos or plants.\n",
       "- Schedule regular quick tidies (weekly or bi-weekly) to maintain order.\n",
       "\n",
       "**9. Develop Habits**\n",
       "- End each day by tidying your workspace.\n",
       "- Limit new clutter by being mindful of what you bring in.\n",
       "\n",
       "Would you like tailored tips based on your specific workspace (home office, studio, etc.)?</td><td>Response:<br /> Absolutely! Here's a quick, effective plan to declutter and organize your workspace in 15 minutes with a $20 budget:\n",
       "\n",
       "**1. Gather Supplies (2 minutes):**  \n",
       "- Buy a pack of inexpensive file folders or manila envelopes ($5-8) from a dollar store or office supply store.  \n",
       "- Grab some sticky notes or labels ($3-5) for labeling.  \n",
       "- Optional: small stackable trays or boxes if within budget ($5-7).\n",
       "\n",
       "**2. Sort Your Papers (5 minutes):**  \n",
       "- Quickly gather all papers and sort into categories:  \n",
       "  - To Keep (important documents, notes, printouts)  \n",
       "  - To Recycle (outdated or unnecessary papers)  \n",
       "  - To File (documents needing long-term storage)  \n",
       "\n",
       "**3. Create a Filing System (5 minutes):**  \n",
       "- Use the file folders/envelopes for main categories (e.g., “Personal Notes,” “Work References,” “Bills,” “To Read”).  \n",
       "- Label each folder/envelope clearly with sticky notes or labels.  \n",
       "- Place all related papers into their respective folders.  \n",
       "\n",
       "**4. Optimize Workspace (3 minutes):**  \n",
       "- Clear clutter from your immediate desk area—store files upright in a small tray or on a shelf.  \n",
       "- Keep only essential items on your desk (notepad, pen).  \n",
       "\n",
       "**5. Final Touch (1 minute):**  \n",
       "- Place your newly organized files in a designated spot for easy access.  \n",
       "- Dispose of recycled papers immediately to keep space clear.  \n",
       "\n",
       "**Budget Check:**  \n",
       "Most of this uses basic supplies you may already have or can buy within your $20 budget.\n",
       "\n",
       "**Tip:** Set a reminder to review and update your files weekly to keep the system manageable.\n",
       "\n",
       "Would you like a quick visual layout or specific labeling ideas?</td></tr></table>"
      ],
      "text/plain": [
       "<IPython.core.display.Markdown object>"
      ]
     },
     "metadata": {},
     "output_type": "display_data"
    }
   ],
   "source": [
    "# TODO: Write a constraints system prompt replacing the ***********\n",
    "constraints_system_prompt = f\"\"\" {role_system_prompt}. I have only 15 minutes, a $20 budget, and limited floor space;\n",
    "I have many papers to organize and i dont have boxes. my papers are most likely A4 printout (with some knowledge) and my personal hand-written notes\"\"\"\n",
    "\n",
    "print(\"Sending prompt with constraints...\")\n",
    "constraints_response = get_completion(constraints_system_prompt, user_prompt)\n",
    "print(\"Response received!\\n\")\n",
    "\n",
    "# Show last two prompts and responses\n",
    "display_response(\n",
    "    {\n",
    "        \"system_prompt\": role_system_prompt,\n",
    "        \"user_prompt\": user_prompt,\n",
    "        \"response\": role_response,\n",
    "    },\n",
    "    {\n",
    "        \"system_prompt\": constraints_system_prompt,\n",
    "        \"user_prompt\": user_prompt,\n",
    "        \"response\": constraints_response,\n",
    "    },\n",
    ")"
   ]
  },
  {
   "cell_type": "code",
   "execution_count": 26,
   "id": "93603898",
   "metadata": {},
   "outputs": [
    {
     "name": "stdout",
     "output_type": "stream",
     "text": [
      "Sending prompt with constraints...\n",
      "Response received!\n",
      "\n"
     ]
    },
    {
     "data": {
      "text/markdown": [
       "<table><tr><th>System Prompt: <br />  You are a certified professional organizer.<br / ><br />User Prompt:<br />Give me a simple plan to declutter and organize my workspace.</th><th>System Prompt: <br />   You are a certified professional organizer.. I have only 15 minutes, a $20 budget, and limited floor space;\n",
       "I have many papers to organize and i dont have boxes. my papers are most likely A4 printout (with some knowledge) and my personal hand-written notes. my personal notes are very random.<br / ><br />User Prompt:<br />Give me a simple plan to declutter and organize my workspace.</th></tr></tr><td>Response:<br /> Absolutely! Here's a simple, step-by-step plan to help you declutter and organize your workspace:\n",
       "\n",
       "**1. Set Your Goals**\n",
       "- Decide what you want your workspace to look and feel like.\n",
       "- Identify specific issues (e.g., too much clutter, lack of storage).\n",
       "\n",
       "**2. Gather Supplies**\n",
       "- Storage bins, trays, or organizers\n",
       "- Trash bag or recycling bin\n",
       "- Labels and marker\n",
       "- Cleaning supplies (optional, for wiping surfaces)\n",
       "\n",
       "**3. Clear Everything Out**\n",
       "- Remove everything from your desk and shelves.\n",
       "- Sort items into categories: Keep, Donate/Sell, Recycle, Trash.\n",
       "\n",
       "**4. Purge Unnecessary Items**\n",
       "- Be honest about what you really need.\n",
       "- Get rid of outdated papers, broken supplies, or duplicates.\n",
       "\n",
       "**5. Clean the Space**\n",
       "- Dust surfaces, wipe down your desk, and clean your equipment.\n",
       "\n",
       "**6. Organize What Remains**\n",
       "- Designate zones for different items (e.g., office supplies, files, electronics).\n",
       "- Use organizers, drawers, or shelves to store items neatly.\n",
       "- Keep frequently used items within easy reach.\n",
       "\n",
       "**7. Create a Filing System**\n",
       "- Use file folders or digital tools for documents.\n",
       "- Label everything clearly for quick retrieval.\n",
       "\n",
       "**8. Personalize and Maintain**\n",
       "- Add personal touches like photos or plants.\n",
       "- Schedule regular quick tidies (weekly or bi-weekly) to maintain order.\n",
       "\n",
       "**9. Develop Habits**\n",
       "- End each day by tidying your workspace.\n",
       "- Limit new clutter by being mindful of what you bring in.\n",
       "\n",
       "Would you like tailored tips based on your specific workspace (home office, studio, etc.)?</td><td>Response:<br /> Absolutely! Here's a quick, effective plan to declutter and organize your workspace within 15 minutes and $20:\n",
       "\n",
       "**1. Gather Supplies (2 minutes):**  \n",
       "- Use what you already have: folders, binders, or even large envelopes.  \n",
       "- If needed, buy a pack of inexpensive manila folders or file pockets from a dollar store (~$5).  \n",
       "- Grab a pen or marker for labeling.\n",
       "\n",
       "**2. Sort Papers into Broad Categories (5 minutes):**  \n",
       "- Quickly scan through your papers.  \n",
       "- Create 3 main piles on your limited floor space:  \n",
       "  - **Important/Action Needed** (things to address soon)  \n",
       "  - **Reference/Archive** (things to keep but don't need immediate attention)  \n",
       "  - **Miscellaneous/Notes** (your handwritten notes and random papers)\n",
       "\n",
       "**3. Create a Simple Filing System (5 minutes):**  \n",
       "- Use folders or envelopes for each category (label them clearly).  \n",
       "- Place the sorted papers into their respective folders.  \n",
       "- For handwritten notes, consider a dedicated \"Notes\" folder for easy access later.\n",
       "\n",
       "**4. Tidy Up & Finalize (3 minutes):**  \n",
       "- Stack the folders neatly, preferably on a small shelf or desk.  \n",
       "- Clear any remaining clutter from your workspace.  \n",
       "- Put essential items within easy reach, and discard or recycle any unnecessary papers.\n",
       "\n",
       "**5. Optional: Quick Maintenance (30 seconds):**  \n",
       "- Schedule a 5-minute weekly review to keep your workspace organized.\n",
       "\n",
       "This plan keeps things simple, budget-friendly, and quick, making your workspace more manageable and less overwhelming.</td></tr></table>"
      ],
      "text/plain": [
       "<IPython.core.display.Markdown object>"
      ]
     },
     "metadata": {},
     "output_type": "display_data"
    }
   ],
   "source": [
    "# TODO: Write a constraints system prompt replacing the ***********\n",
    "constraints_system_prompt = f\"\"\" {role_system_prompt}. I have only 15 minutes, a $20 budget, and limited floor space;\n",
    "I have many papers to organize and i dont have boxes. my papers are most likely A4 printout (with some knowledge) and my personal hand-written notes. my personal notes are very random.\"\"\"\n",
    "\n",
    "print(\"Sending prompt with constraints...\")\n",
    "constraints_response = get_completion(constraints_system_prompt, user_prompt)\n",
    "print(\"Response received!\\n\")\n",
    "\n",
    "# Show last two prompts and responses\n",
    "display_response(\n",
    "    {\n",
    "        \"system_prompt\": role_system_prompt,\n",
    "        \"user_prompt\": user_prompt,\n",
    "        \"response\": role_response,\n",
    "    },\n",
    "    {\n",
    "        \"system_prompt\": constraints_system_prompt,\n",
    "        \"user_prompt\": user_prompt,\n",
    "        \"response\": constraints_response,\n",
    "    },\n",
    ")"
   ]
  },
  {
   "cell_type": "code",
   "execution_count": null,
   "id": "12f8f05b",
   "metadata": {},
   "outputs": [],
   "source": []
  }
 ],
 "metadata": {
  "kernelspec": {
   "display_name": "base",
   "language": "python",
   "name": "python3"
  },
  "language_info": {
   "codemirror_mode": {
    "name": "ipython",
    "version": 3
   },
   "file_extension": ".py",
   "mimetype": "text/x-python",
   "name": "python",
   "nbconvert_exporter": "python",
   "pygments_lexer": "ipython3",
   "version": "3.13.5"
  }
 },
 "nbformat": 4,
 "nbformat_minor": 5
}
